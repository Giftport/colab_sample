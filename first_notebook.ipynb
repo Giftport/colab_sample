{
  "nbformat": 4,
  "nbformat_minor": 0,
  "metadata": {
    "colab": {
      "name": "first_notebook.ipynb",
      "provenance": [],
      "collapsed_sections": [],
      "include_colab_link": true
    },
    "kernelspec": {
      "name": "python3",
      "display_name": "Python 3"
    }
  },
  "cells": [
    {
      "cell_type": "markdown",
      "metadata": {
        "id": "view-in-github",
        "colab_type": "text"
      },
      "source": [
        "<a href=\"https://colab.research.google.com/github/Giftport/colab_sample/blob/master/first_notebook.ipynb\" target=\"_parent\"><img src=\"https://colab.research.google.com/assets/colab-badge.svg\" alt=\"Open In Colab\"/></a>"
      ]
    },
    {
      "cell_type": "markdown",
      "metadata": {
        "id": "GLr68hvUOHrd",
        "colab_type": "text"
      },
      "source": [
        "#にゃんにゃんにゃんにゃんにゃんにゃんにゃ\n",
        "##にゃん\n",
        "###にゃんにゃん\n",
        "にゃーん  \n",
        "$$ y= \\frac{1}{x} $$\n",
        "Latex形式での数式入力"
      ]
    },
    {
      "cell_type": "code",
      "metadata": {
        "id": "LgvgRzFUN1d2",
        "colab_type": "code",
        "outputId": "61f710d8-d73b-4eaf-d1e0-42ed1203f629",
        "colab": {
          "base_uri": "https://localhost:8080/",
          "height": 34
        }
      },
      "source": [
        "print (\"Hello Nyaan!\")"
      ],
      "execution_count": 0,
      "outputs": [
        {
          "output_type": "stream",
          "text": [
            "Hello Nyaan!\n"
          ],
          "name": "stdout"
        }
      ]
    }
  ]
}